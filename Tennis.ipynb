{
 "cells": [
  {
   "cell_type": "markdown",
   "metadata": {
    "deletable": true,
    "editable": true
   },
   "source": [
    "# Collaboration and Competition\n",
    "\n",
    "---\n",
    "\n",
    "In this notebook, you will learn how to use the Unity ML-Agents environment for the third project of the [Deep Reinforcement Learning Nanodegree](https://www.udacity.com/course/deep-reinforcement-learning-nanodegree--nd893) program.\n",
    "\n",
    "### 1. Start the Environment\n",
    "\n",
    "We begin by importing the necessary packages.  If the code cell below returns an error, please revisit the project instructions to double-check that you have installed [Unity ML-Agents](https://github.com/Unity-Technologies/ml-agents/blob/master/docs/Installation.md) and [NumPy](http://www.numpy.org/)."
   ]
  },
  {
   "cell_type": "code",
   "execution_count": 1,
   "metadata": {
    "collapsed": false,
    "deletable": true,
    "editable": true,
    "scrolled": true
   },
   "outputs": [],
   "source": [
    "import sys\n",
    "from unityagents import UnityEnvironment\n",
    "import numpy as np\n",
    "import torch\n",
    "import matplotlib.pyplot as plt\n",
    "from collections import deque"
   ]
  },
  {
   "cell_type": "markdown",
   "metadata": {
    "deletable": true,
    "editable": true
   },
   "source": [
    "Import algorithms"
   ]
  },
  {
   "cell_type": "code",
   "execution_count": 11,
   "metadata": {
    "collapsed": true,
    "deletable": true,
    "editable": true
   },
   "outputs": [],
   "source": [
    "import sys\n",
    "sys.path.append('./code')\n",
    "from random_action import RandomAction\n",
    "from maddpg import MADDPG"
   ]
  },
  {
   "cell_type": "markdown",
   "metadata": {
    "deletable": true,
    "editable": true
   },
   "source": [
    "Next, we will start the environment!  **_Before running the code cell below_**, change the `file_name` parameter to match the location of the Unity environment that you downloaded.\n",
    "\n",
    "- **Mac**: `\"path/to/Tennis.app\"`\n",
    "- **Windows** (x86): `\"path/to/Tennis_Windows_x86/Tennis.exe\"`\n",
    "- **Windows** (x86_64): `\"path/to/Tennis_Windows_x86_64/Tennis.exe\"`\n",
    "- **Linux** (x86): `\"path/to/Tennis_Linux/Tennis.x86\"`\n",
    "- **Linux** (x86_64): `\"path/to/Tennis_Linux/Tennis.x86_64\"`\n",
    "- **Linux** (x86, headless): `\"path/to/Tennis_Linux_NoVis/Tennis.x86\"`\n",
    "- **Linux** (x86_64, headless): `\"path/to/Tennis_Linux_NoVis/Tennis.x86_64\"`\n",
    "\n",
    "For instance, if you are using a Mac, then you downloaded `Tennis.app`.  If this file is in the same folder as the notebook, then the line below should appear as follows:\n",
    "```\n",
    "env = UnityEnvironment(file_name=\"Tennis.app\")\n",
    "```"
   ]
  },
  {
   "cell_type": "code",
   "execution_count": 3,
   "metadata": {
    "collapsed": false,
    "deletable": true,
    "editable": true
   },
   "outputs": [
    {
     "name": "stderr",
     "output_type": "stream",
     "text": [
      "INFO:unityagents:\n",
      "'Academy' started successfully!\n",
      "Unity Academy name: Academy\n",
      "        Number of Brains: 1\n",
      "        Number of External Brains : 1\n",
      "        Lesson number : 0\n",
      "        Reset Parameters :\n",
      "\t\t\n",
      "Unity brain name: TennisBrain\n",
      "        Number of Visual Observations (per agent): 0\n",
      "        Vector Observation space type: continuous\n",
      "        Vector Observation space size (per agent): 8\n",
      "        Number of stacked Vector Observation: 3\n",
      "        Vector Action space type: continuous\n",
      "        Vector Action space size (per agent): 2\n",
      "        Vector Action descriptions: , \n"
     ]
    }
   ],
   "source": [
    "env = UnityEnvironment(file_name=\"Tennis_Linux_NoVis/Tennis.x86_64\")"
   ]
  },
  {
   "cell_type": "markdown",
   "metadata": {
    "deletable": true,
    "editable": true
   },
   "source": [
    "Environments contain **_brains_** which are responsible for deciding the actions of their associated agents. Here we check for the first brain available, and set it as the default brain we will be controlling from Python."
   ]
  },
  {
   "cell_type": "code",
   "execution_count": 4,
   "metadata": {
    "collapsed": true,
    "deletable": true,
    "editable": true
   },
   "outputs": [],
   "source": [
    "# get the default brain\n",
    "brain_name = env.brain_names[0]\n",
    "brain = env.brains[brain_name]"
   ]
  },
  {
   "cell_type": "markdown",
   "metadata": {
    "deletable": true,
    "editable": true
   },
   "source": [
    "### 2. Examine the State and Action Spaces\n",
    "\n",
    "In this environment, two agents control rackets to bounce a ball over a net. If an agent hits the ball over the net, it receives a reward of +0.1.  If an agent lets a ball hit the ground or hits the ball out of bounds, it receives a reward of -0.01.  Thus, the goal of each agent is to keep the ball in play.\n",
    "\n",
    "The observation space consists of 8 variables corresponding to the position and velocity of the ball and racket. Two continuous actions are available, corresponding to movement toward (or away from) the net, and jumping. \n",
    "\n",
    "Run the code cell below to print some information about the environment."
   ]
  },
  {
   "cell_type": "code",
   "execution_count": 5,
   "metadata": {
    "collapsed": false,
    "deletable": true,
    "editable": true
   },
   "outputs": [
    {
     "name": "stdout",
     "output_type": "stream",
     "text": [
      "Number of agents: 2\n",
      "Size of each action: 2\n",
      "There are 2 agents. Each observes a state with length: 24\n",
      "The state for the first agent looks like: [ 0.          0.          0.          0.          0.          0.\n",
      "  0.          0.          0.          0.          0.          0.\n",
      "  0.          0.          0.          0.         -6.65278625 -1.5\n",
      " -0.          0.          6.83172083  6.         -0.          0.        ]\n"
     ]
    }
   ],
   "source": [
    "# reset the environment\n",
    "env_info = env.reset(train_mode=True)[brain_name]\n",
    "\n",
    "# number of agents \n",
    "num_agents = len(env_info.agents)\n",
    "print('Number of agents:', num_agents)\n",
    "\n",
    "# size of each action\n",
    "action_size = brain.vector_action_space_size\n",
    "print('Size of each action:', action_size)\n",
    "\n",
    "# examine the state space \n",
    "states = env_info.vector_observations\n",
    "state_size = states.shape[1]\n",
    "print('There are {} agents. Each observes a state with length: {}'.format(states.shape[0], state_size))\n",
    "print('The state for the first agent looks like:', states[0])"
   ]
  },
  {
   "cell_type": "markdown",
   "metadata": {
    "deletable": true,
    "editable": true
   },
   "source": [
    "### 3. Take Random Actions in the Environment\n",
    "\n",
    "In the next code cell, you will learn how to use the Python API to control the agents and receive feedback from the environment. Once this cell is executed, you will watch the agents' performance, if they select actions at random with each time step.  A window should pop up that allows you to observe the agents."
   ]
  },
  {
   "cell_type": "code",
   "execution_count": 6,
   "metadata": {
    "collapsed": true,
    "deletable": true,
    "editable": true
   },
   "outputs": [],
   "source": [
    "def run_algo(algo, train=False, verbose=True):\n",
    "\n",
    "    env_info = env.reset(train_mode=train)[brain_name]\n",
    "    states = env_info.vector_observations              # get the current states (for each agent)\n",
    "    scores = np.zeros(num_agents)                      # initialize the score (for each agent)\n",
    "\n",
    "    while True:\n",
    "        actions = algo.act(states)                     # get next action (for each agent) \n",
    "        env_info = env.step(actions)[brain_name]       # send the action to the environment\n",
    "        next_states = env_info.vector_observations     # get the next state (for each agent)\n",
    "        rewards = env_info.rewards                     # get the reward (for each agent)\n",
    "        dones = env_info.local_done                    # see if episode has finished\n",
    "        scores += rewards                              # update the score (for each agent)\n",
    "        if train:\n",
    "            algo.step(states, actions, rewards, next_states, dones)\n",
    "        states = next_states                           # roll over the state to next time step\n",
    "        \n",
    "        if np.any(dones):                              # exit loop if episode finished\n",
    "            break\n",
    "            \n",
    "    if verbose:    \n",
    "        print('Score (max over agents) for this episode: {}'.format(np.max(scores)))\n",
    "\n",
    "    return scores"
   ]
  },
  {
   "cell_type": "markdown",
   "metadata": {
    "deletable": true,
    "editable": true
   },
   "source": [
    "### 4. Train agents"
   ]
  },
  {
   "cell_type": "markdown",
   "metadata": {
    "deletable": true,
    "editable": true
   },
   "source": [
    "In the next two code cells we will train agents using MADDPG algorithm. "
   ]
  },
  {
   "cell_type": "code",
   "execution_count": 7,
   "metadata": {
    "collapsed": true,
    "deletable": true,
    "editable": true
   },
   "outputs": [],
   "source": [
    "algo = MADDPG(state_size=state_size, action_size=action_size, n_agents=num_agents, seed=0)\n",
    "model_file = 'checkpoint.pth'\n",
    "\n",
    "def train_maddpg(algo, n_episodes):\n",
    "    \"\"\"Deep Q-Learning.\n",
    "\n",
    "    Params\n",
    "    ======\n",
    "        n_episodes (int): maximum number of training episodes\n",
    "    \"\"\"\n",
    "\n",
    "    scores_all = []                        # list containing scores from each episode\n",
    "    scores_window = deque(maxlen=100)  # last 100 scores\n",
    "    algo.noise_scale = 1\n",
    "    algo.epsilon = 1\n",
    "\n",
    "    for i_episode in range(1, n_episodes+1):\n",
    "        if i_episode < 1500:\n",
    "            algo.epsilon = 1\n",
    "        elif i_episode < 3000:\n",
    "            algo.epsilon = 0.5\n",
    "        else:\n",
    "            algo.epsilon = 0        \n",
    "        scores = run_algo(algo, train=True, verbose=False)\n",
    "        scores_max = np.max(scores)\n",
    "        scores_window.append(scores_max)       # save max scores from the last 100 scores\n",
    "        scores_all.append(scores_max)          # save max scores from all episodes\n",
    "        \n",
    "        print('\\rEpisode {}\\tAverage Score: {:.2f}'.format(i_episode, np.mean(scores_window)), end=\"\")\n",
    "        if i_episode % 100 == 0:\n",
    "            print('\\rEpisode {}\\tAverage Score: {:.2f}'.format(i_episode, np.mean(scores_window)))\n",
    "\n",
    "        if np.mean(scores_window)>=0.5:\n",
    "            print('\\nEnvironment solved in {:d} episodes!\\tAverage Score: {:.2f}'.format(i_episode-100, \n",
    "                                                                                         np.mean(scores_window)))\n",
    "            break\n",
    "\n",
    "    return scores_all"
   ]
  },
  {
   "cell_type": "code",
   "execution_count": 8,
   "metadata": {
    "collapsed": false,
    "deletable": true,
    "editable": true
   },
   "outputs": [
    {
     "name": "stdout",
     "output_type": "stream",
     "text": [
      "Episode 16\tAverage Score: 0.01"
     ]
    },
    {
     "name": "stderr",
     "output_type": "stream",
     "text": [
      "/anaconda/envs/py35/lib/python3.5/site-packages/torch/nn/functional.py:1320: UserWarning: nn.functional.tanh is deprecated. Use torch.tanh instead.\n",
      "  warnings.warn(\"nn.functional.tanh is deprecated. Use torch.tanh instead.\")\n"
     ]
    },
    {
     "name": "stdout",
     "output_type": "stream",
     "text": [
      "Episode 100\tAverage Score: 0.01\n",
      "Episode 200\tAverage Score: 0.01\n",
      "Episode 300\tAverage Score: 0.02\n",
      "Episode 400\tAverage Score: 0.01\n",
      "Episode 500\tAverage Score: 0.02\n",
      "Episode 600\tAverage Score: 0.02\n",
      "Episode 700\tAverage Score: 0.02\n",
      "Episode 800\tAverage Score: 0.02\n",
      "Episode 900\tAverage Score: 0.03\n",
      "Episode 1000\tAverage Score: 0.02\n",
      "Episode 1100\tAverage Score: 0.02\n",
      "Episode 1200\tAverage Score: 0.02\n",
      "Episode 1300\tAverage Score: 0.01\n",
      "Episode 1400\tAverage Score: 0.02\n",
      "Episode 1500\tAverage Score: 0.02\n",
      "Episode 1600\tAverage Score: 0.05\n",
      "Episode 1700\tAverage Score: 0.04\n",
      "Episode 1800\tAverage Score: 0.06\n",
      "Episode 1900\tAverage Score: 0.06\n",
      "Episode 2000\tAverage Score: 0.05\n",
      "Episode 2100\tAverage Score: 0.06\n",
      "Episode 2200\tAverage Score: 0.05\n",
      "Episode 2300\tAverage Score: 0.06\n",
      "Episode 2400\tAverage Score: 0.07\n",
      "Episode 2500\tAverage Score: 0.06\n",
      "Episode 2600\tAverage Score: 0.06\n",
      "Episode 2700\tAverage Score: 0.07\n",
      "Episode 2800\tAverage Score: 0.07\n",
      "Episode 2900\tAverage Score: 0.06\n",
      "Episode 3000\tAverage Score: 0.07\n",
      "Episode 3100\tAverage Score: 0.09\n",
      "Episode 3200\tAverage Score: 0.10\n",
      "Episode 3300\tAverage Score: 0.09\n",
      "Episode 3400\tAverage Score: 0.10\n",
      "Episode 3500\tAverage Score: 0.12\n",
      "Episode 3600\tAverage Score: 0.13\n",
      "Episode 3700\tAverage Score: 0.13\n",
      "Episode 3800\tAverage Score: 0.20\n",
      "Episode 3900\tAverage Score: 0.13\n",
      "Episode 4000\tAverage Score: 0.11\n",
      "Episode 4100\tAverage Score: 0.10\n",
      "Episode 4200\tAverage Score: 0.12\n",
      "Episode 4300\tAverage Score: 0.13\n",
      "Episode 4400\tAverage Score: 0.12\n",
      "Episode 4500\tAverage Score: 0.12\n",
      "Episode 4600\tAverage Score: 0.12\n",
      "Episode 4700\tAverage Score: 0.27\n",
      "Episode 4800\tAverage Score: 0.27\n",
      "Episode 4900\tAverage Score: 0.19\n",
      "Episode 5000\tAverage Score: 0.15\n",
      "Episode 5100\tAverage Score: 0.32\n",
      "Episode 5200\tAverage Score: 0.10\n",
      "Episode 5300\tAverage Score: 0.10\n",
      "Episode 5400\tAverage Score: 0.14\n",
      "Episode 5500\tAverage Score: 0.15\n",
      "Episode 5600\tAverage Score: 0.13\n",
      "Episode 5700\tAverage Score: 0.16\n",
      "Episode 5800\tAverage Score: 0.17\n",
      "Episode 5900\tAverage Score: 0.27\n",
      "Episode 6000\tAverage Score: 0.20\n",
      "Episode 6100\tAverage Score: 0.19\n",
      "Episode 6200\tAverage Score: 0.11\n",
      "Episode 6300\tAverage Score: 0.27\n",
      "Episode 6400\tAverage Score: 0.12\n",
      "Episode 6500\tAverage Score: 0.10\n",
      "Episode 6600\tAverage Score: 0.10\n",
      "Episode 6700\tAverage Score: 0.10\n",
      "Episode 6800\tAverage Score: 0.11\n",
      "Episode 6900\tAverage Score: 0.11\n",
      "Episode 7000\tAverage Score: 0.16\n",
      "Episode 7100\tAverage Score: 0.12\n",
      "Episode 7200\tAverage Score: 0.11\n",
      "Episode 7300\tAverage Score: 0.11\n",
      "Episode 7400\tAverage Score: 0.11\n",
      "Episode 7500\tAverage Score: 0.11\n",
      "Episode 7600\tAverage Score: 0.11\n",
      "Episode 7700\tAverage Score: 0.11\n",
      "Episode 7800\tAverage Score: 0.11\n",
      "Episode 7900\tAverage Score: 0.12\n",
      "Episode 8000\tAverage Score: 0.11\n",
      "Episode 8100\tAverage Score: 0.10\n",
      "Episode 8200\tAverage Score: 0.10\n",
      "Episode 8300\tAverage Score: 0.11\n",
      "Episode 8400\tAverage Score: 0.16\n",
      "Episode 8500\tAverage Score: 0.18\n",
      "Episode 8600\tAverage Score: 0.13\n",
      "Episode 8700\tAverage Score: 0.11\n",
      "Episode 8800\tAverage Score: 0.14\n",
      "Episode 8900\tAverage Score: 0.14\n",
      "Episode 9000\tAverage Score: 0.24\n",
      "Episode 9100\tAverage Score: 0.13\n",
      "Episode 9200\tAverage Score: 0.11\n",
      "Episode 9300\tAverage Score: 0.11\n",
      "Episode 9400\tAverage Score: 0.11\n",
      "Episode 9500\tAverage Score: 0.17\n",
      "Episode 9600\tAverage Score: 0.16\n",
      "Episode 9700\tAverage Score: 0.10\n",
      "Episode 9800\tAverage Score: 0.14\n",
      "Episode 9900\tAverage Score: 0.12\n",
      "Episode 10000\tAverage Score: 0.11\n",
      "Episode 10100\tAverage Score: 0.11\n",
      "Episode 10200\tAverage Score: 0.29\n",
      "Episode 10300\tAverage Score: 0.42\n",
      "Episode 10400\tAverage Score: 0.39\n",
      "Episode 10500\tAverage Score: 0.27\n",
      "Episode 10600\tAverage Score: 0.49\n",
      "Episode 10604\tAverage Score: 0.50\n",
      "Environment solved in 10504 episodes!\tAverage Score: 0.50\n"
     ]
    }
   ],
   "source": [
    "scores = train_maddpg(algo, n_episodes=100000)"
   ]
  },
  {
   "cell_type": "code",
   "execution_count": 15,
   "metadata": {
    "collapsed": false,
    "deletable": true,
    "editable": true
   },
   "outputs": [],
   "source": [
    "algo.save_model('checkpoint.pth')"
   ]
  },
  {
   "cell_type": "code",
   "execution_count": 16,
   "metadata": {
    "collapsed": false,
    "deletable": true,
    "editable": true
   },
   "outputs": [
    {
     "data": {
      "image/png": "[encoded data removed]",
      "text/plain": [
       "<matplotlib.figure.Figure at 0x7f86389b7208>"
      ]
     },
     "metadata": {},
     "output_type": "display_data"
    }
   ],
   "source": [
    "fig = plt.figure()\n",
    "ax = fig.add_subplot(111)\n",
    "plt.plot(np.arange(len(scores)), scores)\n",
    "plt.ylabel('Score')\n",
    "plt.xlabel('Episode #')\n",
    "plt.show()"
   ]
  },
  {
   "cell_type": "markdown",
   "metadata": {
    "deletable": true,
    "editable": true
   },
   "source": [
    "### 5. Close environment"
   ]
  },
  {
   "cell_type": "code",
   "execution_count": null,
   "metadata": {
    "collapsed": false,
    "deletable": true,
    "editable": true
   },
   "outputs": [],
   "source": [
    "env.close()"
   ]
  },
  {
   "cell_type": "code",
   "execution_count": null,
   "metadata": {
    "collapsed": true,
    "deletable": true,
    "editable": true
   },
   "outputs": [],
   "source": []
  }
 ],
 "metadata": {
  "kernelspec": {
   "display_name": "Python 3",
   "language": "python",
   "name": "python3"
  },
  "language_info": {
   "codemirror_mode": {
    "name": "ipython",
    "version": 3
   },
   "file_extension": ".py",
   "mimetype": "text/x-python",
   "name": "python",
   "nbconvert_exporter": "python",
   "pygments_lexer": "ipython3",
   "version": "3.5.2"
  }
 },
 "nbformat": 4,
 "nbformat_minor": 2
}
